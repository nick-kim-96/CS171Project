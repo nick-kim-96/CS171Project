{
 "cells": [
  {
   "cell_type": "markdown",
   "id": "ed8b0102",
   "metadata": {},
   "source": [
    "# Project Ttitle"
   ]
  },
  {
   "cell_type": "code",
   "execution_count": 3,
   "id": "6892f0f2",
   "metadata": {},
   "outputs": [],
   "source": [
    "\"\"\"\n",
    "Briefly describe how your code can be run in each section, what is the sequence to run ? \n",
    "\"\"\"\n"
   ]
  },
  {
   "cell_type": "markdown",
   "id": "f8aa58b4",
   "metadata": {},
   "source": [
    "You can use triple single/double quote, or # sign or insert the latex equation, or insert picture for your code \n",
    "comments/description if that helps describe better"
   ]
  },
  {
   "cell_type": "markdown",
   "id": "f6679dc7",
   "metadata": {},
   "source": [
    "## Data"
   ]
  },
  {
   "cell_type": "code",
   "execution_count": null,
   "id": "d8e81e6f",
   "metadata": {},
   "outputs": [],
   "source": [
    "\"\"\"\n",
    "Describe your data source and how you will handle missing value, tranform data, or detect outliter \n",
    "\"\"\""
   ]
  },
  {
   "cell_type": "markdown",
   "id": "0995dd27",
   "metadata": {},
   "source": [
    "### Imports"
   ]
  },
  {
   "cell_type": "code",
   "execution_count": null,
   "id": "7e06fdc3",
   "metadata": {},
   "outputs": [],
   "source": [
    "import numpy as np\n",
    "import pandas as pd\n",
    "import seaborn as sns\n",
    "import matplotlib.pyplot as plt"
   ]
  },
  {
   "cell_type": "markdown",
   "id": "cc22b7e7",
   "metadata": {},
   "source": [
    "### Extract Data"
   ]
  },
  {
   "cell_type": "code",
   "execution_count": null,
   "id": "f269b7e3",
   "metadata": {},
   "outputs": [],
   "source": []
  },
  {
   "cell_type": "markdown",
   "id": "6993facc",
   "metadata": {},
   "source": [
    "### Data Clean"
   ]
  },
  {
   "cell_type": "markdown",
   "id": "42d56d61",
   "metadata": {},
   "source": [
    "### Feature Engineering"
   ]
  },
  {
   "cell_type": "markdown",
   "id": "c7b2a7f2",
   "metadata": {},
   "source": [
    "### Dimension Reduction"
   ]
  },
  {
   "cell_type": "markdown",
   "id": "2444b338",
   "metadata": {},
   "source": [
    "### Variable Selection"
   ]
  },
  {
   "cell_type": "markdown",
   "id": "a2d7c344",
   "metadata": {},
   "source": [
    "### Regularization"
   ]
  },
  {
   "cell_type": "markdown",
   "id": "ff0160fe",
   "metadata": {},
   "source": [
    "## Machine Learnig Algorithm Exploration"
   ]
  },
  {
   "cell_type": "code",
   "execution_count": null,
   "id": "79304b3b",
   "metadata": {},
   "outputs": [],
   "source": [
    "\"\"\"\n",
    "Describe what machine learning algorithms are suitable to answer your business questions, fit the model\n",
    "\"\"\""
   ]
  },
  {
   "cell_type": "markdown",
   "id": "bf4cc115",
   "metadata": {},
   "source": [
    "### Candidate ML Algorithm 1"
   ]
  },
  {
   "cell_type": "markdown",
   "id": "904ded4e",
   "metadata": {},
   "source": [
    "### Candidate ML Algorithm 2"
   ]
  },
  {
   "cell_type": "markdown",
   "id": "2dca0ee3",
   "metadata": {},
   "source": [
    "### Candidate ML Algorithm 3"
   ]
  },
  {
   "cell_type": "markdown",
   "id": "837e9a9b",
   "metadata": {},
   "source": [
    "## In-Sample Validation"
   ]
  },
  {
   "cell_type": "code",
   "execution_count": null,
   "id": "b89bcc6b",
   "metadata": {},
   "outputs": [],
   "source": [
    "\"\"\"\n",
    "Describe the what metric you will use for testing model performance, and list the performance for each algorithm you tried \n",
    "\"\"\""
   ]
  },
  {
   "cell_type": "markdown",
   "id": "d76dc411",
   "metadata": {},
   "source": [
    "### Peformance of ML Algorithm 1"
   ]
  },
  {
   "cell_type": "markdown",
   "id": "b1e85d1f",
   "metadata": {},
   "source": [
    "### Peformance of ML Algorithm 2"
   ]
  },
  {
   "cell_type": "markdown",
   "id": "eb2da311",
   "metadata": {},
   "source": [
    "### Peformance of ML Algorithm 3"
   ]
  },
  {
   "cell_type": "markdown",
   "id": "bb34f891",
   "metadata": {},
   "source": [
    "## Ensemble Technique Applied"
   ]
  },
  {
   "cell_type": "code",
   "execution_count": null,
   "id": "735c70fc",
   "metadata": {},
   "outputs": [],
   "source": [
    "\"\"\"\n",
    "Describe the what ensemble technique can be applied to enhance your model performance and how do you apply it, \n",
    "you can try couple differnt esenble methods if you want \n",
    "\"\"\""
   ]
  },
  {
   "cell_type": "code",
   "execution_count": null,
   "id": "a941628f",
   "metadata": {},
   "outputs": [],
   "source": [
    "## Conclusion"
   ]
  },
  {
   "cell_type": "code",
   "execution_count": null,
   "id": "99d4d944",
   "metadata": {},
   "outputs": [],
   "source": [
    "\"\"\"\n",
    "Describe what ML Algorithm(s) you finally decide to use, and what Ensemble technique(s) you decide to use, and \n",
    "conclude the model performance in terms of metric here\n",
    "\"\"\""
   ]
  }
 ],
 "metadata": {
  "kernelspec": {
   "display_name": "Python 3 (ipykernel)",
   "language": "python",
   "name": "python3"
  },
  "language_info": {
   "codemirror_mode": {
    "name": "ipython",
    "version": 3
   },
   "file_extension": ".py",
   "mimetype": "text/x-python",
   "name": "python",
   "nbconvert_exporter": "python",
   "pygments_lexer": "ipython3",
   "version": "3.7.9"
  }
 },
 "nbformat": 4,
 "nbformat_minor": 5
}
